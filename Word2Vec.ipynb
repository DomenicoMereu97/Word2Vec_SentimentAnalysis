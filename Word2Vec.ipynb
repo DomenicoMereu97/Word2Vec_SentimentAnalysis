{
 "cells": [
  {
   "cell_type": "markdown",
   "id": "78652fa0",
   "metadata": {},
   "source": [
    "# Data Science Lab Project 2022 Winter Session (Word2Vec part)"
   ]
  },
  {
   "cell_type": "markdown",
   "id": "c5cf9d12",
   "metadata": {},
   "source": [
    "In order to run this code you need to install:\n",
    "- emot\n",
    "- nltk\n",
    "- html\n",
    "- gensim\n",
    "- adjustText\n",
    "- tqdm\n",
    "- tensorflow"
   ]
  },
  {
   "cell_type": "markdown",
   "id": "0729ec9d",
   "metadata": {},
   "source": [
    "## 1) Data exploration"
   ]
  },
  {
   "cell_type": "code",
   "execution_count": 2,
   "id": "13b09361",
   "metadata": {},
   "outputs": [
    {
     "name": "stderr",
     "output_type": "stream",
     "text": [
      "/Users/giovannimantegna/opt/anaconda3/lib/python3.8/site-packages/dateutil/parser/_parser.py:1213: UnknownTimezoneWarning: tzname PDT identified but not understood.  Pass `tzinfos` argument in order to correctly return a timezone-aware datetime.  In a future version, this will raise an exception.\n",
      "  warnings.warn(\"tzname {tzname} identified but not understood.  \"\n"
     ]
    },
    {
     "data": {
      "text/html": [
       "<div>\n",
       "<style scoped>\n",
       "    .dataframe tbody tr th:only-of-type {\n",
       "        vertical-align: middle;\n",
       "    }\n",
       "\n",
       "    .dataframe tbody tr th {\n",
       "        vertical-align: top;\n",
       "    }\n",
       "\n",
       "    .dataframe thead th {\n",
       "        text-align: right;\n",
       "    }\n",
       "</style>\n",
       "<table border=\"1\" class=\"dataframe\">\n",
       "  <thead>\n",
       "    <tr style=\"text-align: right;\">\n",
       "      <th></th>\n",
       "      <th>sentiment</th>\n",
       "      <th>ids</th>\n",
       "      <th>date</th>\n",
       "      <th>flag</th>\n",
       "      <th>user</th>\n",
       "      <th>text</th>\n",
       "    </tr>\n",
       "  </thead>\n",
       "  <tbody>\n",
       "    <tr>\n",
       "      <th>0</th>\n",
       "      <td>1</td>\n",
       "      <td>1833972543</td>\n",
       "      <td>2009-05-18 01:08:27</td>\n",
       "      <td>NO_QUERY</td>\n",
       "      <td>Killandra</td>\n",
       "      <td>@MissBianca76 Yes, talking helps a lot.. going...</td>\n",
       "    </tr>\n",
       "    <tr>\n",
       "      <th>1</th>\n",
       "      <td>1</td>\n",
       "      <td>1980318193</td>\n",
       "      <td>2009-05-31 06:23:17</td>\n",
       "      <td>NO_QUERY</td>\n",
       "      <td>IMlisacowan</td>\n",
       "      <td>SUNSHINE. livingg itttt. imma lie on the grass...</td>\n",
       "    </tr>\n",
       "    <tr>\n",
       "      <th>2</th>\n",
       "      <td>1</td>\n",
       "      <td>1994409198</td>\n",
       "      <td>2009-06-01 11:52:54</td>\n",
       "      <td>NO_QUERY</td>\n",
       "      <td>yaseminx3</td>\n",
       "      <td>@PleaseBeMine Something for your iphone</td>\n",
       "    </tr>\n",
       "    <tr>\n",
       "      <th>3</th>\n",
       "      <td>0</td>\n",
       "      <td>1824749377</td>\n",
       "      <td>2009-05-17 02:45:34</td>\n",
       "      <td>NO_QUERY</td>\n",
       "      <td>no_surprises</td>\n",
       "      <td>@GabrielSaporta couldn't get in to the after p...</td>\n",
       "    </tr>\n",
       "    <tr>\n",
       "      <th>4</th>\n",
       "      <td>0</td>\n",
       "      <td>2001199113</td>\n",
       "      <td>2009-06-02 00:08:07</td>\n",
       "      <td>NO_QUERY</td>\n",
       "      <td>Rhi_ShortStack</td>\n",
       "      <td>@bradiewebbstack awww is andy being mean again...</td>\n",
       "    </tr>\n",
       "    <tr>\n",
       "      <th>...</th>\n",
       "      <td>...</td>\n",
       "      <td>...</td>\n",
       "      <td>...</td>\n",
       "      <td>...</td>\n",
       "      <td>...</td>\n",
       "      <td>...</td>\n",
       "    </tr>\n",
       "    <tr>\n",
       "      <th>224989</th>\n",
       "      <td>0</td>\n",
       "      <td>2261324310</td>\n",
       "      <td>2009-06-20 20:36:48</td>\n",
       "      <td>NO_QUERY</td>\n",
       "      <td>CynthiaBuroughs</td>\n",
       "      <td>@Dropsofreign yeah I hope Iran people reach fr...</td>\n",
       "    </tr>\n",
       "    <tr>\n",
       "      <th>224990</th>\n",
       "      <td>1</td>\n",
       "      <td>1989408152</td>\n",
       "      <td>2009-06-01 01:25:45</td>\n",
       "      <td>NO_QUERY</td>\n",
       "      <td>unitechy</td>\n",
       "      <td>Trying the qwerty keypad</td>\n",
       "    </tr>\n",
       "    <tr>\n",
       "      <th>224991</th>\n",
       "      <td>0</td>\n",
       "      <td>1991221316</td>\n",
       "      <td>2009-06-01 06:38:10</td>\n",
       "      <td>NO_QUERY</td>\n",
       "      <td>Xaan</td>\n",
       "      <td>I love Jasper &amp;amp; Jackson but that wig in th...</td>\n",
       "    </tr>\n",
       "    <tr>\n",
       "      <th>224992</th>\n",
       "      <td>0</td>\n",
       "      <td>2239702807</td>\n",
       "      <td>2009-06-19 08:51:56</td>\n",
       "      <td>NO_QUERY</td>\n",
       "      <td>Ginger_Billie</td>\n",
       "      <td>I am really tired and bored and bleh! I feel c...</td>\n",
       "    </tr>\n",
       "    <tr>\n",
       "      <th>224993</th>\n",
       "      <td>1</td>\n",
       "      <td>2016018811</td>\n",
       "      <td>2009-06-03 06:00:29</td>\n",
       "      <td>NO_QUERY</td>\n",
       "      <td>kevin_choo</td>\n",
       "      <td>@alyshatan good luck!! It sounds interesting t...</td>\n",
       "    </tr>\n",
       "  </tbody>\n",
       "</table>\n",
       "<p>224994 rows × 6 columns</p>\n",
       "</div>"
      ],
      "text/plain": [
       "        sentiment         ids                date      flag             user  \\\n",
       "0               1  1833972543 2009-05-18 01:08:27  NO_QUERY        Killandra   \n",
       "1               1  1980318193 2009-05-31 06:23:17  NO_QUERY      IMlisacowan   \n",
       "2               1  1994409198 2009-06-01 11:52:54  NO_QUERY        yaseminx3   \n",
       "3               0  1824749377 2009-05-17 02:45:34  NO_QUERY     no_surprises   \n",
       "4               0  2001199113 2009-06-02 00:08:07  NO_QUERY   Rhi_ShortStack   \n",
       "...           ...         ...                 ...       ...              ...   \n",
       "224989          0  2261324310 2009-06-20 20:36:48  NO_QUERY  CynthiaBuroughs   \n",
       "224990          1  1989408152 2009-06-01 01:25:45  NO_QUERY         unitechy   \n",
       "224991          0  1991221316 2009-06-01 06:38:10  NO_QUERY             Xaan   \n",
       "224992          0  2239702807 2009-06-19 08:51:56  NO_QUERY    Ginger_Billie   \n",
       "224993          1  2016018811 2009-06-03 06:00:29  NO_QUERY       kevin_choo   \n",
       "\n",
       "                                                     text  \n",
       "0       @MissBianca76 Yes, talking helps a lot.. going...  \n",
       "1       SUNSHINE. livingg itttt. imma lie on the grass...  \n",
       "2                @PleaseBeMine Something for your iphone   \n",
       "3       @GabrielSaporta couldn't get in to the after p...  \n",
       "4       @bradiewebbstack awww is andy being mean again...  \n",
       "...                                                   ...  \n",
       "224989  @Dropsofreign yeah I hope Iran people reach fr...  \n",
       "224990                          Trying the qwerty keypad   \n",
       "224991  I love Jasper &amp; Jackson but that wig in th...  \n",
       "224992  I am really tired and bored and bleh! I feel c...  \n",
       "224993  @alyshatan good luck!! It sounds interesting t...  \n",
       "\n",
       "[224994 rows x 6 columns]"
      ]
     },
     "metadata": {},
     "output_type": "display_data"
    }
   ],
   "source": [
    "import pandas as pd\n",
    "\n",
    "df = pd.read_csv(\"development.csv\",parse_dates=['date'])\n",
    "\n",
    "display(df)"
   ]
  },
  {
   "cell_type": "markdown",
   "id": "838cef4f",
   "metadata": {},
   "source": [
    "Missing Values"
   ]
  },
  {
   "cell_type": "code",
   "execution_count": 3,
   "id": "93145633",
   "metadata": {},
   "outputs": [
    {
     "data": {
      "text/plain": [
       "sentiment    0\n",
       "ids          0\n",
       "date         0\n",
       "flag         0\n",
       "user         0\n",
       "text         0\n",
       "dtype: int64"
      ]
     },
     "execution_count": 3,
     "metadata": {},
     "output_type": "execute_result"
    }
   ],
   "source": [
    "df.isnull().sum()"
   ]
  },
  {
   "cell_type": "markdown",
   "id": "d300fe26",
   "metadata": {},
   "source": [
    "Cardinality"
   ]
  },
  {
   "cell_type": "code",
   "execution_count": 4,
   "id": "036fdc24",
   "metadata": {},
   "outputs": [
    {
     "data": {
      "text/plain": [
       "sentiment         2\n",
       "ids          224716\n",
       "date         189779\n",
       "flag              1\n",
       "user          10647\n",
       "text         223106\n",
       "dtype: int64"
      ]
     },
     "execution_count": 4,
     "metadata": {},
     "output_type": "execute_result"
    }
   ],
   "source": [
    "df.nunique()"
   ]
  },
  {
   "cell_type": "markdown",
   "id": "9d7492cf",
   "metadata": {},
   "source": [
    "Unbalanced Classes"
   ]
  },
  {
   "cell_type": "code",
   "execution_count": 5,
   "id": "d5191681",
   "metadata": {},
   "outputs": [
    {
     "data": {
      "text/plain": [
       "1    130157\n",
       "0     94837\n",
       "Name: sentiment, dtype: int64"
      ]
     },
     "execution_count": 5,
     "metadata": {},
     "output_type": "execute_result"
    }
   ],
   "source": [
    "df['sentiment'].value_counts()"
   ]
  },
  {
   "cell_type": "markdown",
   "id": "7f3f0ae6",
   "metadata": {},
   "source": [
    "Temporal range"
   ]
  },
  {
   "cell_type": "code",
   "execution_count": 6,
   "id": "9acb3e81",
   "metadata": {},
   "outputs": [
    {
     "name": "stdout",
     "output_type": "stream",
     "text": [
      "2009-06-25 10:28:28\n",
      "2009-04-06 22:19:57\n"
     ]
    }
   ],
   "source": [
    "print(max(df[\"date\"]))\n",
    "print(min(df[\"date\"]))"
   ]
  },
  {
   "cell_type": "markdown",
   "id": "ca8d3901",
   "metadata": {},
   "source": [
    "# Duplicate Drop"
   ]
  },
  {
   "cell_type": "code",
   "execution_count": 7,
   "id": "92890bd7",
   "metadata": {},
   "outputs": [
    {
     "name": "stdout",
     "output_type": "stream",
     "text": [
      "223106 224716\n"
     ]
    }
   ],
   "source": [
    "print(df['text'].nunique(), df['ids'].nunique())"
   ]
  },
  {
   "cell_type": "code",
   "execution_count": 8,
   "id": "ad643ce2",
   "metadata": {},
   "outputs": [
    {
     "data": {
      "text/plain": [
       "sentiment         2\n",
       "ids          222833\n",
       "date         188491\n",
       "flag              1\n",
       "user          10646\n",
       "text         222833\n",
       "dtype: int64"
      ]
     },
     "execution_count": 8,
     "metadata": {},
     "output_type": "execute_result"
    }
   ],
   "source": [
    "ids = df[\"ids\"]\n",
    "data_clean = df.drop(df[ids.isin(ids[ids.duplicated()])].index)\n",
    "data_clean = data_clean.drop_duplicates(subset=['text'])\n",
    "\n",
    "data_clean.nunique()"
   ]
  },
  {
   "cell_type": "markdown",
   "id": "b12c06e5",
   "metadata": {},
   "source": [
    "# 2) Preprocessing step"
   ]
  },
  {
   "cell_type": "markdown",
   "id": "dc19d23d",
   "metadata": {},
   "source": [
    "Methods"
   ]
  },
  {
   "cell_type": "code",
   "execution_count": 13,
   "id": "edbc10fc",
   "metadata": {},
   "outputs": [
    {
     "name": "stderr",
     "output_type": "stream",
     "text": [
      "[nltk_data] Downloading package averaged_perceptron_tagger to\n",
      "[nltk_data]     /Users/giovannimantegna/nltk_data...\n",
      "[nltk_data]   Unzipping taggers/averaged_perceptron_tagger.zip.\n",
      "[nltk_data] Downloading package wordnet to\n",
      "[nltk_data]     /Users/giovannimantegna/nltk_data...\n",
      "[nltk_data]   Package wordnet is already up-to-date!\n"
     ]
    }
   ],
   "source": [
    "import re\n",
    "import string as st\n",
    "from tensorflow.keras import models, layers, preprocessing as kprocessing\n",
    "from tensorflow.keras import backend as K\n",
    "import emot\n",
    "import nltk\n",
    "import numpy as np\n",
    "emot_obj = emot.core.emot() \n",
    "nltk.download('averaged_perceptron_tagger')\n",
    "nltk.download('wordnet')\n",
    "\n",
    "def load_dict_smileys():\n",
    "    return {\n",
    "  \":-)\": \"smiley\",\n",
    "  \":)\": \"smiley\",\n",
    "  \":d\": \"smiley\",\n",
    "  \"xd\": \"smiley\",\n",
    "  \":')\": \"smiley\",\n",
    "  \":'d\": \"smiley\",\n",
    "  \":3\": \"smiley\",\n",
    "  \":]\": \"smiley\",\n",
    "  \":^)\": \"smiley\",\n",
    "  \":-]\": \"smiley\",\n",
    "  \":-3\": \"smiley\",\n",
    "  \":->\": \"smiley\",\n",
    "  \":))\": \"smiley\",\n",
    "  \"8-)\": \"cool\",\n",
    "  \"8)\": \"cool\",\n",
    "  \"8-d\": \"cool\",\n",
    "  \"b)\": \"cool\",\n",
    "  \"bd\": \"cool\",\n",
    "  \":-}\": \"smiley\",\n",
    "  \":>\": \"smiley\",\n",
    "  \":}\": \"smiley\",\n",
    "  \":o)\": \"smiley\",\n",
    "  \":c)\": \"smiley\",\n",
    "  \"=)\": \"smiley\",\n",
    "  \"=d\": \"smiley\",\n",
    "  \"=]\": \"smiley\",\n",
    "  \":-d\": \"smiley\",\n",
    "  \":o\": \"surprised\",\n",
    "  \"=o\": \"surprised\",\n",
    "  \":0\": \"surprised\",\n",
    "  \":(\": \"sad\",\n",
    "  \":c\": \"sad\",\n",
    "  \"=(\": \"sad\",\n",
    "  \"=c\": \"sad\",\n",
    "  \":-(\": \"sad\",\n",
    "  \":-c\": \"sad\",\n",
    "  \":-<\": \"sad\",\n",
    "  \":<\": \"sad\",\n",
    "  \":[\": \"sad\",\n",
    "  \":{\": \"sad\",\n",
    "  \":'(\": \"crying\",\n",
    "  \":P\": \"playful\",\n",
    "  \"xp\": \"playful\",\n",
    "  \"=P\": \"playful\",\n",
    "  \"xb\": \"playful\",\n",
    "  \"❤\": \"love\",\n",
    "  \"</3\": \"sad\",\n",
    "  \":/\": \"worried\",\n",
    "  \":-/\": \"worried\"\n",
    "  }"
   ]
  },
  {
   "cell_type": "code",
   "execution_count": 16,
   "id": "688cf598",
   "metadata": {},
   "outputs": [],
   "source": [
    "import re\n",
    "from functools import partial\n",
    "from collections import Counter\n",
    "import nltk\n",
    "from nltk.corpus import wordnet\n",
    "from nltk.corpus import stopwords\n",
    "from nltk.stem import WordNetLemmatizer\n",
    "from nltk.stem.porter import PorterStemmer\n",
    "\n",
    "def removeUnicode(text):\n",
    "    \"\"\" Removes unicode strings like \"\\u002c\" and \"x96\" \"\"\"\n",
    "    text = re.sub(r'(\\\\u[0-9A-Fa-f]+)',r'', text)       \n",
    "    text = re.sub(r'[^\\x00-\\x7f]',r'',text)\n",
    "    return text\n",
    "\n",
    "def replaceURL(text):\n",
    "    \"\"\" Replaces url address with \"url\" \"\"\"\n",
    "    text = re.sub('((www\\.[^\\s]+)|(https?://[^\\s]+))','url',text)\n",
    "    text = re.sub(r'#([^\\s]+)', '', text)\n",
    "    return text\n",
    "\n",
    "def replaceAtUser(text):\n",
    "    \"\"\" Replaces \"@user\" with \"atUser\" \"\"\"\n",
    "    text = re.sub('@[^\\s]+','',text)\n",
    "    return text\n",
    "\n",
    "def removeHashtagInFrontOfWord(text):\n",
    "    \"\"\" Removes hastag in front of a word \"\"\"\n",
    "    text = re.sub(r'#([^\\s]+)', r'\\1', text)\n",
    "    return text\n",
    "\n",
    "def removeNumbers(text):\n",
    "    \"\"\" Removes integers \"\"\"\n",
    "    text = ''.join([i for i in text if not i.isdigit()])         \n",
    "    return text\n",
    "\n",
    "def replaceMultiExclamationMark(text):\n",
    "    \"\"\" Replaces repetitions of exlamation marks \"\"\"\n",
    "    text = re.sub(r\"(\\!)\\1+\", ' multiExclamation ', text)\n",
    "    return text\n",
    "\n",
    "def replaceMultiQuestionMark(text):\n",
    "    \"\"\" Replaces repetitions of question marks \"\"\"\n",
    "    text = re.sub(r\"(\\?)\\1+\", ' multiQuestion ', text)\n",
    "    return text\n",
    "\n",
    "def replaceMultiStopMark(text):\n",
    "    \"\"\" Replaces repetitions of stop marks \"\"\"\n",
    "    text = re.sub(r\"(\\.)\\1+\", ' multiStop ', text)\n",
    "    return text\n",
    "\n",
    "def countMultiExclamationMarks(text):\n",
    "    \"\"\" Replaces repetitions of exlamation marks \"\"\"\n",
    "    return len(re.findall(r\"(\\!)\\1+\", text))\n",
    "\n",
    "def countMultiQuestionMarks(text):\n",
    "    \"\"\" Count repetitions of question marks \"\"\"\n",
    "    return len(re.findall(r\"(\\?)\\1+\", text))\n",
    "\n",
    "def countMultiStopMarks(text):\n",
    "    \"\"\" Count repetitions of stop marks \"\"\"\n",
    "    return len(re.findall(r\"(\\.)\\1+\", text))\n",
    "\n",
    "def countElongated(text):\n",
    "    \"\"\" Input: a text, Output: how many words are elongated \"\"\"\n",
    "    regex = re.compile(r\"(.)\\1{2}\")\n",
    "    return len([word for word in text.split() if regex.search(word)])\n",
    "\n",
    "def countAllCaps(text):\n",
    "    \"\"\" Input: a text, Output: how many words are all caps \"\"\"\n",
    "    return len(re.findall(\"[A-Z0-9]{3,}\", text))\n",
    "\n",
    "\"\"\" Creates a dictionary with slangs and their equivalents and replaces them \"\"\"\n",
    "with open('slang.txt') as file:\n",
    "    slang_map = dict(map(str.strip, line.partition('\\t')[::2])\n",
    "    for line in file if line.strip())\n",
    "\n",
    "slang_words = sorted(slang_map, key=len, reverse=True) # longest first for regex\n",
    "regex = re.compile(r\"\\b({})\\b\".format(\"|\".join(map(re.escape, slang_words))))\n",
    "replaceSlang = partial(regex.sub, lambda m: slang_map[m.group(1)].replace(\" \", \"_\"))\n",
    "\n",
    "def countSlang(text):\n",
    "    \"\"\" Input: a text, Output: how many slang words and a list of found slangs \"\"\"\n",
    "    slangCounter = 0\n",
    "    slangsFound = []\n",
    "    tokens = nltk.word_tokenize(text)\n",
    "    for word in tokens:\n",
    "        if word in slang_words:\n",
    "            slangsFound.append(word)\n",
    "            slangCounter += 1\n",
    "    return slangCounter, slangsFound\n",
    "\n",
    "\"\"\" Replaces contractions from a string to their equivalents \"\"\"\n",
    "contraction_patterns = [ (r'won\\'t', 'will not'), (r'can\\'t', 'cannot'), (r'i\\'m', 'i am'), (r'ain\\'t', 'is not'), (r'(\\w+)\\'ll', '\\g<1> will'), (r'(\\w+)n\\'t', '\\g<1> not'),\n",
    "                         (r'(\\w+)\\'ve', '\\g<1> have'), (r'(\\w+)\\'s', '\\g<1> is'), (r'(\\w+)\\'re', '\\g<1> are'), (r'(\\w+)\\'d', '\\g<1> would'), (r'&', 'and'), (r'dammit', 'damn it'), (r'dont', 'do not'), (r'wont', 'will not') ]\n",
    "def replaceContraction(text):\n",
    "    patterns = [(re.compile(regex), repl) for (regex, repl) in contraction_patterns]\n",
    "    for (pattern, repl) in patterns:\n",
    "        (text, count) = re.subn(pattern, repl, text)\n",
    "    return text\n",
    "\n",
    "def replaceElongated(word):\n",
    "    \"\"\" Replaces an elongated word with its basic form, unless the word exists in the lexicon \"\"\"\n",
    "\n",
    "    repeat_regexp = re.compile(r'(\\w*)(\\w)\\2(\\w*)')\n",
    "    repl = r'\\1\\2\\3'\n",
    "    if wordnet.synsets(word):\n",
    "        return word\n",
    "    repl_word = repeat_regexp.sub(repl, word)\n",
    "    if repl_word != word:      \n",
    "        return replaceElongated(repl_word)\n",
    "    else:       \n",
    "        return repl_word\n",
    "\n",
    "def removeEmoticons(text):\n",
    "    \"\"\" Removes emoticons from text \"\"\"\n",
    "    text = re.sub(':\\)|;\\)|:-\\)|\\(-:|:-D|=D|:P|xD|X-p|\\^\\^|:-*|\\^\\.\\^|\\^\\-\\^|\\^\\_\\^|\\,-\\)|\\)-:|:\\'\\(|:\\(|:-\\(|:\\S|T\\.T|\\.\\_\\.|:<|:-\\S|:-<|\\*\\-\\*|:O|=O|=\\-O|O\\.o|XO|O\\_O|:-\\@|=/|:/|X\\-\\(|>\\.<|>=\\(|D:', '', text)\n",
    "    return text\n",
    "\n",
    "def countEmoticons(text):\n",
    "    \"\"\" Input: a text, Output: how many emoticons \"\"\"\n",
    "    return len(re.findall(':\\)|;\\)|:-\\)|\\(-:|:-D|=D|:P|xD|X-p|\\^\\^|:-*|\\^\\.\\^|\\^\\-\\^|\\^\\_\\^|\\,-\\)|\\)-:|:\\'\\(|:\\(|:-\\(|:\\S|T\\.T|\\.\\_\\.|:<|:-\\S|:-<|\\*\\-\\*|:O|=O|=\\-O|O\\.o|XO|O\\_O|:-\\@|=/|:/|X\\-\\(|>\\.<|>=\\(|D:', text))\n",
    "\n",
    "\n",
    "### Spell Correction begin ###\n",
    "\"\"\" Spell Correction http://norvig.com/spell-correct.html \"\"\"\n",
    "def words(text): return re.findall(r'\\w+', text.lower())\n",
    "\n",
    "\n",
    "def spellCorrection(word): \n",
    "    \"\"\" Most probable spelling correction for word. \"\"\"\n",
    "    return max(candidates(word), key=P)\n",
    "\n",
    "def candidates(word): \n",
    "    \"\"\" Generate possible spelling corrections for word. \"\"\"\n",
    "    return (known([word]) or known(edits1(word)) or known(edits2(word)) or [word])\n",
    "\n",
    "def known(words): \n",
    "    \"\"\" The subset of `words` that appear in the dictionary of WORDS. \"\"\"\n",
    "    return set(w for w in words if w in WORDS)\n",
    "\n",
    "def edits1(word):\n",
    "    \"\"\" All edits that are one edit away from `word`. \"\"\"\n",
    "    letters    = 'abcdefghijklmnopqrstuvwxyz'\n",
    "    splits     = [(word[:i], word[i:])    for i in range(len(word) + 1)]\n",
    "    deletes    = [L + R[1:]               for L, R in splits if R]\n",
    "    transposes = [L + R[1] + R[0] + R[2:] for L, R in splits if len(R)>1]\n",
    "    replaces   = [L + c + R[1:]           for L, R in splits if R for c in letters]\n",
    "    inserts    = [L + c + R               for L, R in splits for c in letters]\n",
    "    return set(deletes + transposes + replaces + inserts)\n",
    "\n",
    "def edits2(word): \n",
    "    \"\"\" All edits that are two edits away from `word`. \"\"\"\n",
    "    return (e2 for e1 in edits1(word) for e2 in edits1(e1))\n",
    "\n",
    "### Spell Correction End ###\n",
    "\n",
    "### Replace Negations Begin ###\n",
    "\n",
    "def replace(word, pos=None):\n",
    "    \"\"\" Creates a set of all antonyms for the word and if there is only one antonym, it returns it \"\"\"\n",
    "    antonyms = set()\n",
    "    for syn in wordnet.synsets(word, pos=pos):\n",
    "      for lemma in syn.lemmas():\n",
    "        for antonym in lemma.antonyms():\n",
    "          antonyms.add(antonym.name())\n",
    "    if len(antonyms) == 1:\n",
    "      return antonyms.pop()\n",
    "    else:\n",
    "      return None\n",
    "\n",
    "def replaceNegations(text):\n",
    "    \"\"\" Finds \"not\" and antonym for the next word and if found, replaces not and the next word with the antonym \"\"\"\n",
    "    list_text = text.split()\n",
    "    i, l = 0, len(list_text)\n",
    "    words = []\n",
    "    while i < l:\n",
    "      word = list_text[i]\n",
    "      if word == 'not' and i+1 < l:\n",
    "        ant = replace(list_text[i+1])\n",
    "        if ant:\n",
    "          text = text.replace(list_text[i+1], ant)\n",
    "          words.append(ant)\n",
    "          i += 2\n",
    "          continue\n",
    "      #words.append(word)\n",
    "      i += 1\n",
    "    if words:\n",
    "      text = text.replace(\"not\", \"\")\n",
    "    return text\n",
    "\n",
    "### Replace Negations End ###\n",
    "\n",
    "def addNotTag(text):\n",
    "    \"\"\" Finds \"not,never,no\" and adds the tag NEG_ to all words that follow until the next punctuation \"\"\"\n",
    "    transformed = re.sub(r'\\b(?:not|never|no)\\b[\\w\\s][\\w]+', \n",
    "        lambda match: re.sub(r'(\\s+)(\\w+)', r'\\1NEG_\\2', match.group(0)), \n",
    "        text,\n",
    "        flags=re.IGNORECASE)\n",
    "    return transformed\n",
    "\n",
    "\n",
    "\n",
    "def addCapTag(word):\n",
    "    \"\"\" Finds a word with at least 3 characters capitalized and adds the tag ALL_CAPS_ \"\"\"\n",
    "    if(len(re.findall(\"[A-Z]{3,}\", word))):\n",
    "        word = word.replace('\\\\', '' )\n",
    "        transformed = re.sub(\"[A-Z]{3,}\", \"ALL_CAPS_\"+word, word)\n",
    "        return transformed\n",
    "    else:\n",
    "        return word\n",
    "\n",
    "def replaceElongatedWord(text, stoplist):\n",
    "\n",
    "  tokens = text.split() # Technique 13: part of speech tagging  \n",
    "  for w in tokens:\n",
    "      if ( w not in stoplist):\n",
    "          #final_word = addCapTag(w[0])\n",
    "          #final_word = final_word.lower()\n",
    "          final_word = replaceElongated(w)\n",
    "          if len(final_word)>1:\n",
    "              #final_word = spellCorrection(final_word)\n",
    "              text = text.replace(w, final_word)\n",
    "  return text"
   ]
  },
  {
   "cell_type": "code",
   "execution_count": 17,
   "id": "96754f08",
   "metadata": {},
   "outputs": [],
   "source": [
    "def remove_emoticons(tweet):\n",
    "    smilies = load_dict_smileys()\n",
    "    split_tweet = tweet.split()\n",
    "    for key,val in smilies.items():\n",
    "        if key in split_tweet or key[::-1] in split_tweet:\n",
    "                new_tweet = tweet.replace(key, val)\n",
    "                tweet = new_tweet\n",
    "    return tweet"
   ]
  },
  {
   "cell_type": "code",
   "execution_count": 18,
   "id": "0c2787dd",
   "metadata": {},
   "outputs": [],
   "source": [
    "def detect_emoticons_library_rep(text):\n",
    "  text = re.sub(\"(http|ftp|https)://[\\w-]+(\\.[\\w-]+)+([\\w.,@?^=%&amp;:/~+#-]*[\\w@?^=%&amp;/~+#-])?\",\"\", text)\n",
    "  text = re.sub(r'(\\W)(?=\\1)', '', text) #remove multiple punctuations\n",
    "  text = re.sub('[a-z0-9]+:', '', text)\n",
    "  emot = emot_obj.emoticons(str(text).lower().strip())\n",
    "  if emot['flag']:\n",
    "    for count, face in enumerate(emot['value']):\n",
    "      text = text.lower().replace(face, emot['mean'][count].split()[0].lower())\n",
    "  return text"
   ]
  },
  {
   "cell_type": "code",
   "execution_count": 19,
   "id": "55b379cb",
   "metadata": {},
   "outputs": [],
   "source": [
    "def detect_emoticons_library(text):\n",
    "  text = re.sub(\"(http|ftp|https)://[\\w-]+(\\.[\\w-]+)+([\\w.,@?^=%&amp;:/~+#-]*[\\w@?^=%&amp;/~+#-])?\",\"\", text)\n",
    "  text = re.sub(r'(\\W)(?=\\1)', '', text) #remove multiple punctuations\n",
    "  text = re.sub('[a-z0-9]+:', '', text)\n",
    "  emot = emot_obj.emoticons(str(text).lower().strip())\n",
    "  if emot['flag']:\n",
    "    return (emot['mean'], emot['value'])"
   ]
  },
  {
   "cell_type": "code",
   "execution_count": 20,
   "id": "607767f1",
   "metadata": {},
   "outputs": [],
   "source": [
    "def detect_emoticons_dict(tweet):\n",
    "  tweet = re.sub(\"(http|ftp|https)://[\\w-]+(\\.[\\w-]+)+([\\w.,@?^=%&amp;:/~+#-]*[\\w@?^=%&amp;/~+#-])?\",\"\", tweet)\n",
    "  tweet = re.sub(r'(\\W)(?=\\1)', '', tweet)\n",
    "  tweet = re.sub('[a-z0-9]+:', '', tweet)\n",
    "  tweet = tweet.lower()\n",
    "  smilies = load_dict_smileys()\n",
    "  for key,val in smilies.items():\n",
    "    if key in tweet or key[::-1] in tweet:\n",
    "      new_tweet = tweet.replace(key, val)\n",
    "      tweet = new_tweet\n",
    "  return tweet"
   ]
  },
  {
   "cell_type": "code",
   "execution_count": 21,
   "id": "a31f7f0f",
   "metadata": {},
   "outputs": [],
   "source": [
    "def remove_noise(tweet):\n",
    "    tweet = re.sub(\"(@[A-Za-z0–9_]+)\",\"\", tweet)\n",
    "    tweet = re.sub(\"(http|ftp|https)://[\\w-]+(\\.[\\w-]+)+([\\w.,@?^=%&amp;:/~+#-]*[\\w@?^=%&amp;/~+#-])?\",\"\", tweet)\n",
    "    tweet = remove_emoticons(tweet)\n",
    "    tweet = re.sub(\"(a*ha+h[ha]*|o?l+o+l+[ol]*)\",\"ahah\",tweet)\n",
    "    tweet = \"\".join([char if char not in st.punctuation else \" \" for char in tweet])\n",
    "    tweet = re.sub(\"\\\\s+\", \" \", tweet) \n",
    "    tweet = re.sub(\"[0–9]+\", \"\", tweet)\n",
    "    tweet = re.sub(\"[^A-Za-z0–9_. ]+\",\"\",tweet)\n",
    " \n",
    "    return tweet"
   ]
  },
  {
   "cell_type": "code",
   "execution_count": 22,
   "id": "f6b14aa6",
   "metadata": {},
   "outputs": [],
   "source": [
    "def pre_proc(text, stoplist):\n",
    "  text = text.lower()\n",
    "  text = replaceMultiExclamationMark(text)\n",
    "  text = replaceMultiQuestionMark(text)\n",
    "  text = replaceMultiStopMark(text)\n",
    "  text = text.replace(\"&amp\", \"\")\n",
    "  text = re.sub(\"(a*ha+h[ha]*)\",\"ahah \",text) #|o?l+o+l+[ol]* for lol\n",
    "  text = removeUnicode(text) \n",
    "  text = replaceURL(text)\n",
    "  text = detect_emoticons_library_rep(text)\n",
    "  text = detect_emoticons_dict(text)\n",
    "  text = replaceAtUser(text)\n",
    "  text = removeHashtagInFrontOfWord(text)\n",
    "  text = replaceElongatedWord(text, stoplist)\n",
    "  text = replaceSlang(text)\n",
    "  text = unescape(text)\n",
    "  text = replaceContraction(text)\n",
    "  text = replaceNegations(text)\n",
    "  text = removeNumbers(text)\n",
    "  text = \"\".join([char if char not in st.punctuation.replace(\"_\",\"\") else \" \" for char in text])\n",
    "  text = addNotTag(text)\n",
    "  return text"
   ]
  },
  {
   "cell_type": "code",
   "execution_count": 23,
   "id": "3c519c1b",
   "metadata": {},
   "outputs": [],
   "source": [
    "stoplist = stopwords.words('english')"
   ]
  },
  {
   "cell_type": "code",
   "execution_count": 24,
   "id": "f7d876cd",
   "metadata": {},
   "outputs": [],
   "source": [
    "from html import unescape"
   ]
  },
  {
   "cell_type": "code",
   "execution_count": 25,
   "id": "15edc910",
   "metadata": {},
   "outputs": [],
   "source": [
    "data_clean['text'] = data_clean['text'].str.lower()"
   ]
  },
  {
   "cell_type": "code",
   "execution_count": 26,
   "id": "d0f04352",
   "metadata": {},
   "outputs": [],
   "source": [
    "data_clean[\"text\"] = data_clean[\"text\"].apply(lambda x:  pre_proc(x, stoplist))"
   ]
  },
  {
   "cell_type": "markdown",
   "id": "18be487f",
   "metadata": {},
   "source": [
    "# 3) WordCloud visualization"
   ]
  },
  {
   "cell_type": "code",
   "execution_count": 27,
   "id": "a9115d30",
   "metadata": {},
   "outputs": [
    {
     "data": {
      "text/plain": [
       "(-0.5, 1999.5, 999.5, -0.5)"
      ]
     },
     "execution_count": 27,
     "metadata": {},
     "output_type": "execute_result"
    },
    {
     "data": {
      "image/png": "[encoded data removed]",
      "text/plain": [
       "<Figure size 432x288 with 1 Axes>"
      ]
     },
     "metadata": {
      "needs_background": "light"
     },
     "output_type": "display_data"
    }
   ],
   "source": [
    "from collections import Counter\n",
    "from itertools import repeat\n",
    "\n",
    "positive_dataframe = data_clean.loc[data_clean['sentiment'] == 1]\n",
    "negative_dataframe = data_clean.loc[data_clean['sentiment'] == 0]\n",
    "\n",
    "import nltk\n",
    "from nltk.tokenize import word_tokenize,sent_tokenize\n",
    "\n",
    "tokenized_positive_words = []\n",
    "\n",
    "for item in positive_dataframe['text']:\n",
    "    tokenized_positive_words += word_tokenize(item)\n",
    "    \n",
    "\n",
    "tokenized_negative_words = []\n",
    "\n",
    "for item in negative_dataframe['text']:\n",
    "    tokenized_negative_words += word_tokenize(item)\n",
    "    \n",
    "c1 = [x for x in tokenized_positive_words if x not in stoplist]\n",
    "counts1 = Counter(c1)\n",
    "\n",
    "\n",
    "c0 = [x for x in tokenized_negative_words if x not in stoplist]\n",
    "counts0 = Counter(c0)\n",
    "\n",
    "positive = Counter(counts1)\n",
    "positive.subtract(counts0)\n",
    "\n",
    "negative = Counter(counts0)\n",
    "negative.subtract(counts1)\n",
    "\n",
    "most_positive = positive.most_common(100)    \n",
    "most_negative = negative.most_common(100)\n",
    "\n",
    "from wordcloud import WordCloud\n",
    "import matplotlib.pyplot as plt\n",
    "\n",
    "dict_negative = dict(most_negative) \n",
    "wc = WordCloud(background_color=\"white\",width=2000,height=1000, max_words=100,relative_scaling=0.5,normalize_plurals=False).generate_from_frequencies(dict_negative)\n",
    "plt.imshow(wc)\n",
    "plt.axis(\"off\")\n",
    "#plt.savefig('Bad_sentiment.png', dpi=800)\n"
   ]
  },
  {
   "cell_type": "code",
   "execution_count": 28,
   "id": "c6320e66",
   "metadata": {},
   "outputs": [
    {
     "data": {
      "text/plain": [
       "(-0.5, 1999.5, 999.5, -0.5)"
      ]
     },
     "execution_count": 28,
     "metadata": {},
     "output_type": "execute_result"
    },
    {
     "data": {
      "image/png": "[encoded data removed]",
      "text/plain": [
       "<Figure size 432x288 with 1 Axes>"
      ]
     },
     "metadata": {
      "needs_background": "light"
     },
     "output_type": "display_data"
    }
   ],
   "source": [
    "dict_positive = dict(most_positive) \n",
    "wc = WordCloud(background_color=\"white\",width=2000,height=1000, max_words=100,relative_scaling=0.5,normalize_plurals=False).generate_from_frequencies(dict_positive)\n",
    "plt.imshow(wc)\n",
    "plt.axis(\"off\")\n",
    "#plt.savefig('Good_sentiment.png', dpi=800)"
   ]
  },
  {
   "cell_type": "markdown",
   "id": "ed40b0e9",
   "metadata": {},
   "source": [
    "# 4) Exploratory task of Word2vec Model"
   ]
  },
  {
   "cell_type": "markdown",
   "id": "4ed1fb6f",
   "metadata": {},
   "source": [
    "Tokenizzazione delle parole"
   ]
  },
  {
   "cell_type": "code",
   "execution_count": 29,
   "id": "7fc05e5f",
   "metadata": {},
   "outputs": [],
   "source": [
    "import nltk\n",
    "from nltk.tokenize import word_tokenize,sent_tokenize\n",
    "\n",
    "tokenized_sentences = []\n",
    "\n",
    "for item in data_clean['text']:\n",
    "    sent_tokenize(item)\n",
    "    tokenized_sentences += [word_tokenize(t) for t in sent_tokenize(item)]"
   ]
  },
  {
   "cell_type": "markdown",
   "id": "a647a6ce",
   "metadata": {},
   "source": [
    "Creazione del modello Word2Vec"
   ]
  },
  {
   "cell_type": "code",
   "execution_count": 30,
   "id": "48abeb29",
   "metadata": {},
   "outputs": [],
   "source": [
    "import gensim.models\n",
    "\n",
    "from gensim.models import Phrases\n",
    "from gensim.models.phrases import Phraser\n",
    "\n",
    "model = gensim.models.Word2Vec(tokenized_sentences,vector_size=300, min_count=30)"
   ]
  },
  {
   "cell_type": "code",
   "execution_count": 31,
   "id": "11fa9084",
   "metadata": {},
   "outputs": [],
   "source": [
    "from sklearn.manifold import TSNE\n",
    "\n",
    "list_of_peculiar_words = [\"sad\", \"happy\" , \"funny\",\"obama\",\"president\",\"edward\",\"upset\",\"food\",\"drink\",\"meal\",\"mtv\",\"proud\",\"crying\",\"cute\",\"sexy\",\"talented\",\"present\",\"mother\",\"father\",\"brother\", \"movie\", \"awards\",\"hate\",\"eat\",\"meal\",\"dog\",\"cat\",\"friend\",\"stupid\",\"italy\",\"europe\",\"france\",\"germany\",\"usa\",\"music\",\"beyonce\",\"eminem\",\"rock\",\"rain\",\"water\",\"jazz\",\"church\",\"cinema\",\"gym\",\"yoga\",\"sex\",\"drugs\"]\n",
    "\n",
    "list_of_index = []\n",
    "\n",
    "for item in list_of_peculiar_words:\n",
    "    list_of_index.append(model.wv.key_to_index[item])"
   ]
  },
  {
   "cell_type": "code",
   "execution_count": 32,
   "id": "5006928e",
   "metadata": {},
   "outputs": [],
   "source": [
    "import matplotlib.pyplot as plt\n",
    "from adjustText import adjust_text"
   ]
  },
  {
   "cell_type": "code",
   "execution_count": 33,
   "id": "bb36180a",
   "metadata": {},
   "outputs": [],
   "source": [
    "def tsne_plot(model):\n",
    "    \"Creates and TSNE model and plots it\"\n",
    "    labels = []\n",
    "    tokens = []\n",
    "\n",
    "    for word in list(model.wv.key_to_index.keys()):\n",
    "        tokens.append(model.wv[word])\n",
    "        labels.append(word)\n",
    "    \n",
    "    tsne_model = TSNE(perplexity=40, n_components=2, init='pca', n_iter=2500, random_state=23)\n",
    "    new_values = tsne_model.fit_transform(tokens)\n",
    "\n",
    "    x = []\n",
    "    y = []\n",
    "    texts = []\n",
    "    for value in new_values:\n",
    "        x.append(value[0])\n",
    "        y.append(value[1])\n",
    "        \n",
    "    plt.figure(figsize=(16, 16)) \n",
    "    for i in range(len(x)):\n",
    "        if(i in list_of_index):\n",
    "            plt.scatter(x[i],y[i],s=120,c='black')\n",
    "        if(i in list_of_index):\n",
    "            texts.append(plt.text(s=labels[i],\n",
    "                x=x[i],\n",
    "                y=y[i],\n",
    "                size = 20,\n",
    "                weight='bold',\n",
    "                ha='right',\n",
    "                va='bottom')\n",
    "                        )\n",
    "    adjust_text(texts, only_move={'points':'y', 'texts':'y'}, arrowprops=dict(arrowstyle=\"->\", color='r', lw=0.1))\n",
    "    plt.axis(\"off\")\n",
    "    plt.savefig('Word2VecTSNE.png', dpi=800)\n",
    "    plt.show()"
   ]
  },
  {
   "cell_type": "code",
   "execution_count": 34,
   "id": "6068b382",
   "metadata": {},
   "outputs": [
    {
     "data": {
      "image/png": "[encoded data removed]",
      "text/plain": [
       "<Figure size 1152x1152 with 1 Axes>"
      ]
     },
     "metadata": {
      "needs_background": "light"
     },
     "output_type": "display_data"
    }
   ],
   "source": [
    "tsne_plot(model)"
   ]
  },
  {
   "cell_type": "markdown",
   "id": "575b5024",
   "metadata": {},
   "source": [
    "### Using word2vec model for most_similar words"
   ]
  },
  {
   "cell_type": "code",
   "execution_count": 35,
   "id": "6ea965ae",
   "metadata": {},
   "outputs": [
    {
     "name": "stdout",
     "output_type": "stream",
     "text": [
      "[('dumb', 0.6304368376731873), ('gay', 0.6058964133262634), ('dead', 0.5985332727432251), ('lame', 0.597578763961792), ('gr', 0.5875093936920166), ('slow', 0.5442911982536316), ('wack', 0.540636420249939), ('shitty', 0.5239447355270386), ('itchy', 0.5151061415672302), ('argh', 0.5105482339859009)]\n"
     ]
    }
   ],
   "source": [
    "print(model.wv.most_similar(positive=['stupid'], topn=10))"
   ]
  },
  {
   "cell_type": "code",
   "execution_count": 36,
   "id": "3dc1a653",
   "metadata": {},
   "outputs": [
    {
     "name": "stdout",
     "output_type": "stream",
     "text": [
      "[('upset', 0.6803024411201477), ('angry', 0.626072883605957), ('annoyed', 0.6062860488891602), ('depressed', 0.5855772495269775), ('bummed', 0.5786518454551697), ('lame', 0.5556622743606567), ('anoying', 0.5511687994003296), ('guted', 0.5483900308609009), ('crying', 0.5441049337387085), ('disappointed', 0.5435932278633118)]\n"
     ]
    }
   ],
   "source": [
    "print(model.wv.most_similar(positive=['sad'], topn=10))"
   ]
  },
  {
   "cell_type": "code",
   "execution_count": 37,
   "id": "6cc58114",
   "metadata": {},
   "outputs": [
    {
     "name": "stdout",
     "output_type": "stream",
     "text": [
      "[('adorable', 0.851276695728302), ('prety', 0.7547346949577332), ('funy', 0.744523823261261), ('sexy', 0.7239966988563538), ('funny', 0.7238870859146118), ('swet', 0.708251953125), ('talented', 0.6793572902679443), ('cool', 0.6767098307609558), ('young', 0.6716366410255432), ('hilarious', 0.6494309306144714)]\n"
     ]
    }
   ],
   "source": [
    "print(model.wv.most_similar(positive=['cute'], topn=10))"
   ]
  },
  {
   "cell_type": "markdown",
   "id": "b2b28df6",
   "metadata": {},
   "source": [
    "# 5) Classification task ( hold-out 80-20 )"
   ]
  },
  {
   "cell_type": "code",
   "execution_count": 38,
   "id": "f3ab2f7e",
   "metadata": {},
   "outputs": [],
   "source": [
    "from sklearn.model_selection import train_test_split \n",
    "\n",
    "X = pd.DataFrame(data_clean,columns=[\"text\"])\n",
    "y = data_clean[\"sentiment\"]\n",
    "\n",
    "X_train, X_test, y_train, y_test = train_test_split(X, y, train_size=0.8,random_state = 42)"
   ]
  },
  {
   "cell_type": "markdown",
   "id": "373ce623",
   "metadata": {},
   "source": [
    "Tokenize sentenzes"
   ]
  },
  {
   "cell_type": "code",
   "execution_count": 39,
   "id": "7d2c48d5",
   "metadata": {},
   "outputs": [],
   "source": [
    "import nltk\n",
    "from nltk.tokenize import word_tokenize,sent_tokenize\n",
    "\n",
    "tokenized_sentences_train = []\n",
    "\n",
    "for item in X_train[\"text\"]:\n",
    "    sent_tokenize(item)\n",
    "    if [word_tokenize(t) for t in sent_tokenize(item)] not in stoplist:\n",
    "        tokenized_sentences_train += [word_tokenize(t) for t in sent_tokenize(item)]"
   ]
  },
  {
   "cell_type": "code",
   "execution_count": 40,
   "id": "c2397e94",
   "metadata": {},
   "outputs": [],
   "source": [
    "dim_vector = 400\n",
    "\n",
    "model_train = gensim.models.Word2Vec(tokenized_sentences_train,vector_size= dim_vector, min_count=30)"
   ]
  },
  {
   "cell_type": "markdown",
   "id": "a09a578e",
   "metadata": {},
   "source": [
    "Extract Mean word2vec vector from a tweet"
   ]
  },
  {
   "cell_type": "code",
   "execution_count": 41,
   "id": "16fd4250",
   "metadata": {},
   "outputs": [],
   "source": [
    "def extract_feature(text):\n",
    "    \n",
    "    \n",
    "    vectors= list()\n",
    "    tokenize_words = word_tokenize(text)\n",
    "    flag=True\n",
    "    \n",
    "    for k in tokenize_words:\n",
    "        try:\n",
    "            \n",
    "            vectors.append(model_train.wv[k])\n",
    "            flag = False\n",
    "        except KeyError as e:\n",
    "            continue \n",
    "\n",
    "    if flag:\n",
    "        vectors.append(np.zeros((dim_vector,)))\n",
    "            \n",
    "    mean_vector = np.mean( vectors , axis=0) \n",
    "    \n",
    "    return mean_vector"
   ]
  },
  {
   "cell_type": "code",
   "execution_count": 42,
   "id": "36c2ca14",
   "metadata": {},
   "outputs": [
    {
     "name": "stderr",
     "output_type": "stream",
     "text": [
      "100%|██████████| 178266/178266 [02:18<00:00, 1288.79it/s]\n",
      "<ipython-input-42-d65f091ad7aa>:4: SettingWithCopyWarning: \n",
      "A value is trying to be set on a copy of a slice from a DataFrame.\n",
      "Try using .loc[row_indexer,col_indexer] = value instead\n",
      "\n",
      "See the caveats in the documentation: https://pandas.pydata.org/pandas-docs/stable/user_guide/indexing.html#returning-a-view-versus-a-copy\n",
      "  X_train['feature'] = X_train['text'].progress_map(lambda x: extract_feature(x))\n"
     ]
    }
   ],
   "source": [
    "from tqdm import tqdm\n",
    "\n",
    "tqdm.pandas()\n",
    "X_train['feature'] = X_train['text'].progress_map(lambda x: extract_feature(x))"
   ]
  },
  {
   "cell_type": "code",
   "execution_count": 43,
   "id": "0e69dfc9",
   "metadata": {},
   "outputs": [],
   "source": [
    "X_train_feature = X_train['feature'].to_numpy()\n",
    "X_train_feature_concat = np.concatenate( X_train_feature, axis=0 )\n",
    "X_train_feature_final = X_train_feature_concat.reshape(X_train_feature.size,dim_vector)"
   ]
  },
  {
   "cell_type": "code",
   "execution_count": 44,
   "id": "848ec0b5",
   "metadata": {},
   "outputs": [
    {
     "name": "stderr",
     "output_type": "stream",
     "text": [
      "<ipython-input-44-dc7a2547d319>:1: SettingWithCopyWarning: \n",
      "A value is trying to be set on a copy of a slice from a DataFrame.\n",
      "Try using .loc[row_indexer,col_indexer] = value instead\n",
      "\n",
      "See the caveats in the documentation: https://pandas.pydata.org/pandas-docs/stable/user_guide/indexing.html#returning-a-view-versus-a-copy\n",
      "  X_test['feature'] = X_test['text'].apply(lambda x: extract_feature(x))\n"
     ]
    }
   ],
   "source": [
    "X_test['feature'] = X_test['text'].apply(lambda x: extract_feature(x))"
   ]
  },
  {
   "cell_type": "code",
   "execution_count": 45,
   "id": "d478873c",
   "metadata": {},
   "outputs": [],
   "source": [
    "X_test_feature = X_test['feature'].to_numpy()\n",
    "X_test_feature_concat = np.concatenate( X_test_feature, axis=0 )\n",
    "X_test_feature_final = X_test_feature_concat.reshape(X_test_feature.size,dim_vector)"
   ]
  },
  {
   "cell_type": "markdown",
   "id": "bbb89a1a",
   "metadata": {},
   "source": [
    "### Random Forest classifier"
   ]
  },
  {
   "cell_type": "code",
   "execution_count": 46,
   "id": "2ce0115e",
   "metadata": {},
   "outputs": [
    {
     "name": "stdout",
     "output_type": "stream",
     "text": [
      "              precision    recall  f1-score   support\n",
      "\n",
      "           0       0.72      0.63      0.67     18758\n",
      "           1       0.75      0.82      0.79     25809\n",
      "\n",
      "    accuracy                           0.74     44567\n",
      "   macro avg       0.74      0.73      0.73     44567\n",
      "weighted avg       0.74      0.74      0.74     44567\n",
      "\n"
     ]
    }
   ],
   "source": [
    "from sklearn.ensemble import RandomForestClassifier\n",
    "from sklearn.metrics import classification_report\n",
    "\n",
    "clf1 = RandomForestClassifier(n_estimators = 170,random_state=42,max_features=\"log2\",n_jobs = -1)\n",
    "clf1.fit(X_train_feature_final, y_train)\n",
    "test_predictions_word2vec1 = clf1.predict(X_test_feature_final)\n",
    "print(classification_report(y_test,test_predictions_word2vec1))"
   ]
  },
  {
   "cell_type": "markdown",
   "id": "c279aeaf",
   "metadata": {},
   "source": [
    "### LinearSVM model (it takes long time)"
   ]
  },
  {
   "cell_type": "code",
   "execution_count": 47,
   "id": "e6b05321",
   "metadata": {},
   "outputs": [
    {
     "name": "stdout",
     "output_type": "stream",
     "text": [
      "[LibLinear]"
     ]
    },
    {
     "name": "stderr",
     "output_type": "stream",
     "text": [
      "/Users/giovannimantegna/opt/anaconda3/lib/python3.8/site-packages/sklearn/svm/_base.py:985: ConvergenceWarning: Liblinear failed to converge, increase the number of iterations.\n",
      "  warnings.warn(\"Liblinear failed to converge, increase \"\n"
     ]
    },
    {
     "name": "stdout",
     "output_type": "stream",
     "text": [
      "              precision    recall  f1-score   support\n",
      "\n",
      "           0       0.69      0.77      0.73     18758\n",
      "           1       0.82      0.75      0.78     25809\n",
      "\n",
      "    accuracy                           0.76     44567\n",
      "   macro avg       0.75      0.76      0.75     44567\n",
      "weighted avg       0.76      0.76      0.76     44567\n",
      "\n"
     ]
    }
   ],
   "source": [
    "from sklearn.svm import LinearSVC\n",
    "\n",
    "clf = LinearSVC(random_state=0, tol=1e-5, class_weight=\"balanced\", verbose=1)\n",
    "clf.fit(X_train_feature_final,y_train)\n",
    "test_predictions_svm_word2vec = clf.predict(X_test_feature_final)\n",
    "print(classification_report(y_test,test_predictions_svm_word2vec))"
   ]
  },
  {
   "cell_type": "markdown",
   "id": "88a632fd",
   "metadata": {},
   "source": [
    "### Logistic Regression"
   ]
  },
  {
   "cell_type": "code",
   "execution_count": 48,
   "id": "6709b38b",
   "metadata": {},
   "outputs": [
    {
     "name": "stdout",
     "output_type": "stream",
     "text": [
      "              precision    recall  f1-score   support\n",
      "\n",
      "           0       0.73      0.66      0.70     18758\n",
      "           1       0.77      0.82      0.80     25809\n",
      "\n",
      "    accuracy                           0.76     44567\n",
      "   macro avg       0.75      0.74      0.75     44567\n",
      "weighted avg       0.75      0.76      0.75     44567\n",
      "\n"
     ]
    },
    {
     "name": "stderr",
     "output_type": "stream",
     "text": [
      "/Users/giovannimantegna/opt/anaconda3/lib/python3.8/site-packages/sklearn/linear_model/_logistic.py:763: ConvergenceWarning: lbfgs failed to converge (status=1):\n",
      "STOP: TOTAL NO. of ITERATIONS REACHED LIMIT.\n",
      "\n",
      "Increase the number of iterations (max_iter) or scale the data as shown in:\n",
      "    https://scikit-learn.org/stable/modules/preprocessing.html\n",
      "Please also refer to the documentation for alternative solver options:\n",
      "    https://scikit-learn.org/stable/modules/linear_model.html#logistic-regression\n",
      "  n_iter_i = _check_optimize_result(\n"
     ]
    }
   ],
   "source": [
    "from sklearn.linear_model import  LogisticRegression\n",
    "from sklearn import feature_extraction, model_selection\n",
    "from sklearn import metrics\n",
    "\n",
    "lr = LogisticRegression(penalty='l2', max_iter=500, C=1)\n",
    "lr.fit(X_train_feature_final,y_train)\n",
    "test_predictions_svm_word2vec = lr.predict(X_test_feature_final)\n",
    "print(classification_report(y_test,test_predictions_svm_word2vec))\n"
   ]
  },
  {
   "cell_type": "markdown",
   "id": "2e21580f",
   "metadata": {},
   "source": [
    "### Grid for Logistic Regression"
   ]
  },
  {
   "cell_type": "code",
   "execution_count": 49,
   "id": "3a4f564b",
   "metadata": {},
   "outputs": [
    {
     "name": "stdout",
     "output_type": "stream",
     "text": [
      "Fitting 5 folds for each of 6 candidates, totalling 30 fits\n"
     ]
    },
    {
     "name": "stderr",
     "output_type": "stream",
     "text": [
      "/Users/giovannimantegna/opt/anaconda3/lib/python3.8/site-packages/sklearn/model_selection/_search.py:918: UserWarning: One or more of the test scores are non-finite: [       nan 0.7951493         nan 0.79511509        nan 0.79513821]\n",
      "  warnings.warn(\n",
      "/Users/giovannimantegna/opt/anaconda3/lib/python3.8/site-packages/sklearn/linear_model/_logistic.py:763: ConvergenceWarning: lbfgs failed to converge (status=1):\n",
      "STOP: TOTAL NO. of ITERATIONS REACHED LIMIT.\n",
      "\n",
      "Increase the number of iterations (max_iter) or scale the data as shown in:\n",
      "    https://scikit-learn.org/stable/modules/preprocessing.html\n",
      "Please also refer to the documentation for alternative solver options:\n",
      "    https://scikit-learn.org/stable/modules/linear_model.html#logistic-regression\n",
      "  n_iter_i = _check_optimize_result(\n"
     ]
    },
    {
     "data": {
      "text/plain": [
       "GridSearchCV(cv=5, estimator=LogisticRegression(random_state=0), n_jobs=-1,\n",
       "             param_grid={'C': [1.0, 10.0, 100.0], 'penalty': ['l1', 'l2']},\n",
       "             scoring='f1', verbose=1)"
      ]
     },
     "execution_count": 49,
     "metadata": {},
     "output_type": "execute_result"
    }
   ],
   "source": [
    "from sklearn.model_selection import GridSearchCV\n",
    "\n",
    "\n",
    "param_grid = { 'penalty': ['l1', 'l2'],\n",
    "               'C': [1.0, 10.0, 100.0]}\n",
    "              \n",
    "\n",
    "gs_lr = GridSearchCV(LogisticRegression(random_state=0), param_grid,\n",
    "                           scoring='f1',\n",
    "                           cv=5,\n",
    "                           verbose=1,\n",
    "                           n_jobs=-1)\n",
    "gs_lr.fit(X_train_feature_final,y_train)"
   ]
  },
  {
   "cell_type": "code",
   "execution_count": 50,
   "id": "dd3f241e",
   "metadata": {},
   "outputs": [
    {
     "name": "stdout",
     "output_type": "stream",
     "text": [
      "Best parameter set: {'C': 1.0, 'penalty': 'l2'}\n",
      "Best f1: 0.795\n"
     ]
    }
   ],
   "source": [
    "print('Best parameter set: ' + str(gs_lr.best_params_))\n",
    "print('Best f1: %.3f' % gs_lr.best_score_)"
   ]
  },
  {
   "cell_type": "code",
   "execution_count": 51,
   "id": "1c6289a6",
   "metadata": {},
   "outputs": [
    {
     "name": "stdout",
     "output_type": "stream",
     "text": [
      "f1 in test: 0.755\n"
     ]
    }
   ],
   "source": [
    "clf = gs_lr.best_estimator_\n",
    "print('f1 in test: %.3f' % clf.score(X_test_feature_final, y_test))"
   ]
  },
  {
   "cell_type": "markdown",
   "id": "f21ed82f",
   "metadata": {},
   "source": [
    "# 6) Exploratory task with date and user"
   ]
  },
  {
   "cell_type": "markdown",
   "id": "2c5fa575",
   "metadata": {},
   "source": [
    "## Exploratory task with Date"
   ]
  },
  {
   "cell_type": "markdown",
   "id": "9757d9c8",
   "metadata": {},
   "source": [
    "Sort data_clean by date"
   ]
  },
  {
   "cell_type": "code",
   "execution_count": 52,
   "id": "0ae85ff5",
   "metadata": {},
   "outputs": [
    {
     "data": {
      "text/html": [
       "<div>\n",
       "<style scoped>\n",
       "    .dataframe tbody tr th:only-of-type {\n",
       "        vertical-align: middle;\n",
       "    }\n",
       "\n",
       "    .dataframe tbody tr th {\n",
       "        vertical-align: top;\n",
       "    }\n",
       "\n",
       "    .dataframe thead th {\n",
       "        text-align: right;\n",
       "    }\n",
       "</style>\n",
       "<table border=\"1\" class=\"dataframe\">\n",
       "  <thead>\n",
       "    <tr style=\"text-align: right;\">\n",
       "      <th></th>\n",
       "      <th>sentiment</th>\n",
       "      <th>ids</th>\n",
       "      <th>date</th>\n",
       "      <th>flag</th>\n",
       "      <th>user</th>\n",
       "      <th>text</th>\n",
       "    </tr>\n",
       "  </thead>\n",
       "  <tbody>\n",
       "    <tr>\n",
       "      <th>126514</th>\n",
       "      <td>0</td>\n",
       "      <td>1467811193</td>\n",
       "      <td>2009-04-06 22:19:57</td>\n",
       "      <td>NO_QUERY</td>\n",
       "      <td>Karoli</td>\n",
       "      <td>no  it is  misbehave at al  i am mad  why am ...</td>\n",
       "    </tr>\n",
       "    <tr>\n",
       "      <th>23977</th>\n",
       "      <td>0</td>\n",
       "      <td>1467811594</td>\n",
       "      <td>2009-04-06 22:20:03</td>\n",
       "      <td>NO_QUERY</td>\n",
       "      <td>coZZ</td>\n",
       "      <td>hey long time no NEG_se  yes multistop rains ...</td>\n",
       "    </tr>\n",
       "    <tr>\n",
       "      <th>198394</th>\n",
       "      <td>0</td>\n",
       "      <td>1467813579</td>\n",
       "      <td>2009-04-06 22:20:31</td>\n",
       "      <td>NO_QUERY</td>\n",
       "      <td>starkissed</td>\n",
       "      <td>ah ive always wanted to see rent love the sou...</td>\n",
       "    </tr>\n",
       "    <tr>\n",
       "      <th>188913</th>\n",
       "      <td>0</td>\n",
       "      <td>1467813782</td>\n",
       "      <td>2009-04-06 22:20:34</td>\n",
       "      <td>NO_QUERY</td>\n",
       "      <td>gi_gi_bee</td>\n",
       "      <td>oh dear  were you drinking out of the forgott...</td>\n",
       "    </tr>\n",
       "    <tr>\n",
       "      <th>212404</th>\n",
       "      <td>0</td>\n",
       "      <td>1467819650</td>\n",
       "      <td>2009-04-06 22:22:05</td>\n",
       "      <td>NO_QUERY</td>\n",
       "      <td>antzpantz</td>\n",
       "      <td>yay  i am happy for you with your job  but th...</td>\n",
       "    </tr>\n",
       "    <tr>\n",
       "      <th>...</th>\n",
       "      <td>...</td>\n",
       "      <td>...</td>\n",
       "      <td>...</td>\n",
       "      <td>...</td>\n",
       "      <td>...</td>\n",
       "      <td>...</td>\n",
       "    </tr>\n",
       "    <tr>\n",
       "      <th>94121</th>\n",
       "      <td>0</td>\n",
       "      <td>2329167439</td>\n",
       "      <td>2009-06-25 10:25:48</td>\n",
       "      <td>NO_QUERY</td>\n",
       "      <td>Tracey_Mac</td>\n",
       "      <td>already dreading being car les tomorrow multie...</td>\n",
       "    </tr>\n",
       "    <tr>\n",
       "      <th>71783</th>\n",
       "      <td>0</td>\n",
       "      <td>2329176482</td>\n",
       "      <td>2009-06-25 10:26:26</td>\n",
       "      <td>NO_QUERY</td>\n",
       "      <td>kinaton</td>\n",
       "      <td>wishes he could win a holiday for his familty</td>\n",
       "    </tr>\n",
       "    <tr>\n",
       "      <th>40052</th>\n",
       "      <td>0</td>\n",
       "      <td>2329197868</td>\n",
       "      <td>2009-06-25 10:27:58</td>\n",
       "      <td>NO_QUERY</td>\n",
       "      <td>Arantza92</td>\n",
       "      <td>yes he was such a jerk and so mean  i really ...</td>\n",
       "    </tr>\n",
       "    <tr>\n",
       "      <th>90305</th>\n",
       "      <td>0</td>\n",
       "      <td>2329199154</td>\n",
       "      <td>2009-06-25 10:28:03</td>\n",
       "      <td>NO_QUERY</td>\n",
       "      <td>shen_nanigans</td>\n",
       "      <td>no  i slept ina little multistop but it still...</td>\n",
       "    </tr>\n",
       "    <tr>\n",
       "      <th>17852</th>\n",
       "      <td>0</td>\n",
       "      <td>2329205038</td>\n",
       "      <td>2009-06-25 10:28:28</td>\n",
       "      <td>NO_QUERY</td>\n",
       "      <td>bigenya</td>\n",
       "      <td>gmail is down</td>\n",
       "    </tr>\n",
       "  </tbody>\n",
       "</table>\n",
       "<p>222833 rows × 6 columns</p>\n",
       "</div>"
      ],
      "text/plain": [
       "        sentiment         ids                date      flag           user  \\\n",
       "126514          0  1467811193 2009-04-06 22:19:57  NO_QUERY         Karoli   \n",
       "23977           0  1467811594 2009-04-06 22:20:03  NO_QUERY           coZZ   \n",
       "198394          0  1467813579 2009-04-06 22:20:31  NO_QUERY     starkissed   \n",
       "188913          0  1467813782 2009-04-06 22:20:34  NO_QUERY      gi_gi_bee   \n",
       "212404          0  1467819650 2009-04-06 22:22:05  NO_QUERY      antzpantz   \n",
       "...           ...         ...                 ...       ...            ...   \n",
       "94121           0  2329167439 2009-06-25 10:25:48  NO_QUERY     Tracey_Mac   \n",
       "71783           0  2329176482 2009-06-25 10:26:26  NO_QUERY        kinaton   \n",
       "40052           0  2329197868 2009-06-25 10:27:58  NO_QUERY      Arantza92   \n",
       "90305           0  2329199154 2009-06-25 10:28:03  NO_QUERY  shen_nanigans   \n",
       "17852           0  2329205038 2009-06-25 10:28:28  NO_QUERY        bigenya   \n",
       "\n",
       "                                                     text  \n",
       "126514   no  it is  misbehave at al  i am mad  why am ...  \n",
       "23977    hey long time no NEG_se  yes multistop rains ...  \n",
       "198394   ah ive always wanted to see rent love the sou...  \n",
       "188913   oh dear  were you drinking out of the forgott...  \n",
       "212404   yay  i am happy for you with your job  but th...  \n",
       "...                                                   ...  \n",
       "94121   already dreading being car les tomorrow multie...  \n",
       "71783      wishes he could win a holiday for his familty   \n",
       "40052    yes he was such a jerk and so mean  i really ...  \n",
       "90305    no  i slept ina little multistop but it still...  \n",
       "17852                                     gmail is down    \n",
       "\n",
       "[222833 rows x 6 columns]"
      ]
     },
     "metadata": {},
     "output_type": "display_data"
    }
   ],
   "source": [
    "data_clean_sortbydate = data_clean.sort_values(by=\"date\")\n",
    "display(data_clean_sortbydate)"
   ]
  },
  {
   "cell_type": "markdown",
   "id": "1243fc18",
   "metadata": {},
   "source": [
    "Create cumulative sentiment time series"
   ]
  },
  {
   "cell_type": "code",
   "execution_count": 53,
   "id": "fe0b2940",
   "metadata": {},
   "outputs": [],
   "source": [
    "Sum = []\n",
    "sum_ = 0\n",
    "\n",
    "for i in range(0,len(data_clean_sortbydate)):\n",
    "    sum_ += data_clean_sortbydate[\"sentiment\"].iloc[i]\n",
    "    Sum.append(sum_)"
   ]
  },
  {
   "cell_type": "code",
   "execution_count": 54,
   "id": "fa316245",
   "metadata": {},
   "outputs": [
    {
     "data": {
      "text/plain": [
       "[<matplotlib.lines.Line2D at 0x7fb95006fe20>]"
      ]
     },
     "execution_count": 54,
     "metadata": {},
     "output_type": "execute_result"
    },
    {
     "data": {
      "image/png": "[encoded data removed]",
      "text/plain": [
       "<Figure size 864x576 with 1 Axes>"
      ]
     },
     "metadata": {
      "needs_background": "light"
     },
     "output_type": "display_data"
    }
   ],
   "source": [
    "import matplotlib.pyplot as plt\n",
    "from matplotlib.ticker import FixedLocator, FixedFormatter\n",
    "\n",
    "fig, ax = plt.subplots(figsize=(12,8))\n",
    "ax.set_ylabel('Comulative sentiment',size=20)\n",
    "ax.set_xlabel('Time (hour-min-sec)',size=20)\n",
    "ax.yaxis.set_major_formatter(FixedFormatter(list()))\n",
    "#plt.title(\"Cumulative sentiment time series\",size=20)\n",
    "\n",
    "ax.spines['right'].set_visible(False)\n",
    "ax.spines['top'].set_visible(False)\n",
    "ax.spines['left'].set_visible(False)\n",
    "\n",
    "# Draw horizontal axis lines\n",
    "vals = ax.get_yticks()\n",
    "\n",
    "# Remove title\n",
    "ax.set_title(\"\")\n",
    "\n",
    "plt.plot_date(data_clean_sortbydate[\"date\"][0:30],Sum[0:30],markersize=13,marker=\"o\", linestyle='-',color='#86bf91', zorder=2)\n",
    "#plt.savefig('SentimentTimeSerie.png', dpi=500)"
   ]
  },
  {
   "cell_type": "markdown",
   "id": "fd58d3ea",
   "metadata": {},
   "source": [
    "## Exploratory task with User (it takes long time)"
   ]
  },
  {
   "cell_type": "code",
   "execution_count": 55,
   "id": "f3816f04",
   "metadata": {},
   "outputs": [],
   "source": [
    "list_users = list(data_clean[\"user\"].unique())\n",
    "\n",
    "positive_count = []\n",
    "negative_count = []\n",
    "tot_count = []\n",
    "stat = []\n",
    "\n",
    "\n",
    "for i in range(0,len(list_users)):\n",
    "    \n",
    "    current_dataset = data_clean.loc[data_clean['user'] == list_users[i]]\n",
    "    total = current_dataset[\"sentiment\"].count()\n",
    "    tot_count.append(total)\n",
    "    positive = current_dataset.loc[current_dataset['sentiment'] == 1][\"sentiment\"].count()\n",
    "    positive_count.append(positive)\n",
    "    negative = current_dataset.loc[current_dataset['sentiment'] == 0][\"sentiment\"].count()\n",
    "    negative_count.append(negative)\n",
    "    stat.append((positive - negative)/total)\n",
    "    "
   ]
  },
  {
   "cell_type": "code",
   "execution_count": 56,
   "id": "c12d0499",
   "metadata": {},
   "outputs": [],
   "source": [
    "df = pd.DataFrame(zip(list_users,positive_count,negative_count,tot_count,stat),columns =['User', 'positive',\"negative\",\"total\",\"stat\"])"
   ]
  },
  {
   "cell_type": "code",
   "execution_count": 57,
   "id": "89d30525",
   "metadata": {},
   "outputs": [
    {
     "data": {
      "image/png": "[encoded data removed]",
      "text/plain": [
       "<Figure size 864x576 with 1 Axes>"
      ]
     },
     "metadata": {
      "needs_background": "light"
     },
     "output_type": "display_data"
    }
   ],
   "source": [
    "import matplotlib.pyplot as plt\n",
    "from matplotlib.ticker import FixedLocator, FixedFormatter,StrMethodFormatter\n",
    "\n",
    "ax = df.hist(column=\"stat\",bins=44,grid=False, figsize=(12,8), color='#86bf91', zorder=2, rwidth=0.9)\n",
    "\n",
    "ax = ax[0]\n",
    "for x in ax:\n",
    "\n",
    "    # Despine\n",
    "    x.spines['right'].set_visible(False)\n",
    "    x.spines['top'].set_visible(False)\n",
    "    x.spines['left'].set_visible(False)\n",
    "\n",
    "    # Switch off ticks\n",
    "    x.tick_params(axis=\"both\", which=\"both\", bottom=\"off\", top=\"off\", labelbottom=\"on\", left=\"off\", right=\"off\", labelleft=\"on\")\n",
    "\n",
    "    # Draw horizontal axis lines\n",
    "    vals = x.get_yticks()\n",
    "    for tick in vals:\n",
    "        x.axhline(y=tick, linestyle='dashed', alpha=0.4, color='#eeeeee', zorder=1)\n",
    "\n",
    "    # Remove title\n",
    "    x.set_title(\"\")\n",
    "\n",
    "    # Set x-axis label\n",
    "    x.set_xlabel(\"Unbalanced level for sentiment\", labelpad=20, size=20)\n",
    "\n",
    "    # Set y-axis label\n",
    "    x.set_ylabel(\"Number of users\", labelpad=20, size=20)\n",
    "\n",
    "    # Format y-axis label\n",
    "    x.yaxis.set_major_formatter(StrMethodFormatter('{x:,g}'))\n",
    "\n",
    "fig = x.get_figure()\n",
    "#fig.savefig('UserHistogram.png', dpi=500)"
   ]
  },
  {
   "cell_type": "markdown",
   "id": "284dab83",
   "metadata": {},
   "source": [
    "The TF-IDF part and our best model are in the other file"
   ]
  }
 ],
 "metadata": {
  "kernelspec": {
   "display_name": "Python 3",
   "language": "python",
   "name": "python3"
  },
  "language_info": {
   "codemirror_mode": {
    "name": "ipython",
    "version": 3
   },
   "file_extension": ".py",
   "mimetype": "text/x-python",
   "name": "python",
   "nbconvert_exporter": "python",
   "pygments_lexer": "ipython3",
   "version": "3.8.8"
  }
 },
 "nbformat": 4,
 "nbformat_minor": 5
}
